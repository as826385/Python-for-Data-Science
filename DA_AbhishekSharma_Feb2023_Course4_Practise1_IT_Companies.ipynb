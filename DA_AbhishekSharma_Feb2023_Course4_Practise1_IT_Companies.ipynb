{
 "cells": [
  {
   "cell_type": "markdown",
   "id": "925319bb",
   "metadata": {},
   "source": [
    "### Task1:"
   ]
  },
  {
   "cell_type": "code",
   "execution_count": 2,
   "id": "b89f75ef",
   "metadata": {},
   "outputs": [],
   "source": [
    "import numpy as np"
   ]
  },
  {
   "cell_type": "code",
   "execution_count": 4,
   "id": "91103d57",
   "metadata": {},
   "outputs": [],
   "source": [
    "HR=np.arange(1,4)\n",
    "IT=np.arange(4,19)\n",
    "Finance=np.arange(19,24)\n",
    "Sales=np.arange(24,31)"
   ]
  },
  {
   "cell_type": "code",
   "execution_count": 5,
   "id": "c8e42cbc",
   "metadata": {},
   "outputs": [
    {
     "name": "stdout",
     "output_type": "stream",
     "text": [
      "[1 2 3]\n",
      "[ 4  5  6  7  8  9 10 11 12 13 14 15 16 17 18]\n",
      "[19 20 21 22 23]\n",
      "[24 25 26 27 28 29 30]\n"
     ]
    }
   ],
   "source": [
    "print(HR)\n",
    "print(IT)\n",
    "print(Finance)\n",
    "print(Sales)"
   ]
  },
  {
   "cell_type": "markdown",
   "id": "e9b22503",
   "metadata": {},
   "source": [
    "### Task2:"
   ]
  },
  {
   "cell_type": "code",
   "execution_count": 10,
   "id": "078ec8f7",
   "metadata": {},
   "outputs": [],
   "source": [
    "s_hr=np.array([50000,60000,57000])\n",
    "s_it=np.full(15,67000)\n",
    "s_finance=np.array([60000,65000,50000,70000,87000])\n",
    "s_sales=np.array([50000,60000,65000,90000,56000,65000,71000])"
   ]
  },
  {
   "cell_type": "code",
   "execution_count": 11,
   "id": "eb624348",
   "metadata": {},
   "outputs": [
    {
     "name": "stdout",
     "output_type": "stream",
     "text": [
      "[50000 60000 57000]\n",
      "[67000 67000 67000 67000 67000 67000 67000 67000 67000 67000 67000 67000\n",
      " 67000 67000 67000]\n",
      "[60000 65000 50000 70000 87000]\n",
      "[50000 60000 65000 90000 56000 65000 71000]\n"
     ]
    }
   ],
   "source": [
    "print(s_hr)\n",
    "print(s_it)\n",
    "print(s_finance)\n",
    "print(s_sales)"
   ]
  },
  {
   "cell_type": "markdown",
   "id": "1a319535",
   "metadata": {},
   "source": [
    "### Task3:"
   ]
  },
  {
   "cell_type": "code",
   "execution_count": 12,
   "id": "f9ee7edb",
   "metadata": {},
   "outputs": [],
   "source": [
    "avg_hr=np.mean(s_hr)\n",
    "avg_it=np.mean(s_it)\n",
    "avg_finance=np.mean(s_finance)\n",
    "avg_sales=np.mean(s_sales)"
   ]
  },
  {
   "cell_type": "code",
   "execution_count": 13,
   "id": "bd339558",
   "metadata": {},
   "outputs": [
    {
     "name": "stdout",
     "output_type": "stream",
     "text": [
      "55666.666666666664\n",
      "67000.0\n",
      "66400.0\n",
      "65285.71428571428\n"
     ]
    }
   ],
   "source": [
    "print(avg_hr)\n",
    "print(avg_it)  #IT Department has highest average salary expense on the employees\n",
    "print(avg_finance) \n",
    "print(avg_sales)"
   ]
  },
  {
   "cell_type": "markdown",
   "id": "07587edd",
   "metadata": {},
   "source": [
    "### Task4:"
   ]
  },
  {
   "cell_type": "code",
   "execution_count": 16,
   "id": "f45d3e3e",
   "metadata": {},
   "outputs": [
    {
     "data": {
      "text/plain": [
       "60000"
      ]
     },
     "execution_count": 16,
     "metadata": {},
     "output_type": "execute_result"
    }
   ],
   "source": [
    "np.max(s_hr) #Highest salary of HR department"
   ]
  },
  {
   "cell_type": "code",
   "execution_count": 17,
   "id": "2edac544",
   "metadata": {},
   "outputs": [
    {
     "data": {
      "text/plain": [
       "87000"
      ]
     },
     "execution_count": 17,
     "metadata": {},
     "output_type": "execute_result"
    }
   ],
   "source": [
    "np.max(s_finance) #Highest salary of Finance department"
   ]
  },
  {
   "cell_type": "markdown",
   "id": "56cfe8c8",
   "metadata": {},
   "source": [
    "### Task5:"
   ]
  },
  {
   "cell_type": "code",
   "execution_count": 21,
   "id": "e6339721",
   "metadata": {},
   "outputs": [
    {
     "name": "stdout",
     "output_type": "stream",
     "text": [
      "[70350. 70350. 70350. 70350. 70350. 70350. 70350. 70350. 70350. 70350.\n",
      " 70350. 70350. 70350. 70350. 70350.]\n"
     ]
    }
   ],
   "source": [
    "new_sal_IT=s_it*1.05 \n",
    "print(new_sal_IT)"
   ]
  }
 ],
 "metadata": {
  "kernelspec": {
   "display_name": "Python 3 (ipykernel)",
   "language": "python",
   "name": "python3"
  },
  "language_info": {
   "codemirror_mode": {
    "name": "ipython",
    "version": 3
   },
   "file_extension": ".py",
   "mimetype": "text/x-python",
   "name": "python",
   "nbconvert_exporter": "python",
   "pygments_lexer": "ipython3",
   "version": "3.9.13"
  }
 },
 "nbformat": 4,
 "nbformat_minor": 5
}
