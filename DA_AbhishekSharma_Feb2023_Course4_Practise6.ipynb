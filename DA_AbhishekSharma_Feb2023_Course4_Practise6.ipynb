{
 "cells": [
  {
   "cell_type": "code",
   "execution_count": 35,
   "id": "35200946",
   "metadata": {},
   "outputs": [],
   "source": [
    "import mysql.connector as sql\n",
    "import pandas as pd"
   ]
  },
  {
   "cell_type": "code",
   "execution_count": 28,
   "id": "c8760d9f",
   "metadata": {},
   "outputs": [],
   "source": [
    "db=sql.connect(host='localhost',user='root',password='Abhishek@567',database='hr')"
   ]
  },
  {
   "cell_type": "code",
   "execution_count": 29,
   "id": "e2ba6e1a",
   "metadata": {},
   "outputs": [],
   "source": [
    "mycursor=db.cursor()"
   ]
  },
  {
   "cell_type": "markdown",
   "id": "cf79ad5e",
   "metadata": {},
   "source": [
    "## Task1:"
   ]
  },
  {
   "cell_type": "code",
   "execution_count": 30,
   "id": "af70b9d1",
   "metadata": {},
   "outputs": [
    {
     "name": "stdout",
     "output_type": "stream",
     "text": [
      "[('Argentina', 'Americas'), ('Australia', 'Asia'), ('Belgium', 'Europe'), ('Brazil', 'Americas'), ('Canada', 'Americas'), ('Switzerland', 'Europe'), ('China', 'Asia'), ('Germany', 'Europe'), ('Denmark', 'Europe'), ('Egypt', 'Middle East and Africa'), ('France', 'Europe'), ('HongKong', 'Asia'), ('Israel', 'Middle East and Africa'), ('India', 'Asia'), ('Italy', 'Europe'), ('Japan', 'Asia'), ('Kuwait', 'Middle East and Africa'), ('Mexico', 'Americas'), ('Nigeria', 'Middle East and Africa'), ('Netherlands', 'Europe'), ('Singapore', 'Asia'), ('United Kingdom', 'Europe'), ('United States of America', 'Americas'), ('Zambia', 'Middle East and Africa'), ('Zimbabwe', 'Middle East and Africa')]\n"
     ]
    }
   ],
   "source": [
    "q1=\"select country_name, (select region_name from regions where region_id = countries.region_id ) as Regions from countries\"\n",
    "mycursor.execute(q1)\n",
    "data=mycursor.fetchall()\n",
    "print(data)"
   ]
  },
  {
   "cell_type": "markdown",
   "id": "7c4de824",
   "metadata": {},
   "source": [
    "## Task2:"
   ]
  },
  {
   "cell_type": "code",
   "execution_count": 34,
   "id": "507708dd",
   "metadata": {},
   "outputs": [
    {
     "data": {
      "text/plain": [
       "[('Argentina', 0),\n",
       " ('Australia', 0),\n",
       " ('Belgium', 0),\n",
       " ('Brazil', 0),\n",
       " ('Canada', 2),\n",
       " ('Switzerland', 0),\n",
       " ('China', 0),\n",
       " ('Germany', 1),\n",
       " ('Denmark', 0),\n",
       " ('Egypt', 0),\n",
       " ('France', 0),\n",
       " ('HongKong', 0),\n",
       " ('Israel', 0),\n",
       " ('India', 0),\n",
       " ('Italy', 0),\n",
       " ('Japan', 0),\n",
       " ('Kuwait', 0),\n",
       " ('Mexico', 0),\n",
       " ('Nigeria', 0),\n",
       " ('Netherlands', 0),\n",
       " ('Singapore', 0),\n",
       " ('United Kingdom', 35),\n",
       " ('United States of America', 68),\n",
       " ('Zambia', 0),\n",
       " ('Zimbabwe', 0)]"
      ]
     },
     "execution_count": 34,
     "metadata": {},
     "output_type": "execute_result"
    }
   ],
   "source": [
    "q2='select country_name, count(employee_id) as Employee_count from countries left outer join locations on locations.country_id=countries.country_id left outer join departments on departments.location_id=locations.location_id left outer join employees on employees.department_id=departments.department_id group by country_name;'\n",
    "mycursor.execute(q2)\n",
    "data2=mycursor.fetchall()\n",
    "data2"
   ]
  },
  {
   "cell_type": "code",
   "execution_count": 42,
   "id": "6010c34b",
   "metadata": {},
   "outputs": [
    {
     "name": "stderr",
     "output_type": "stream",
     "text": [
      "C:\\Users\\as826\\anaconda3\\lib\\site-packages\\pandas\\io\\sql.py:1666: UserWarning: The provided table name 'Count_country_wise' is not found exactly as such in the database after writing the table, possibly due to case sensitivity issues. Consider using lower case table names.\n",
      "  warnings.warn(msg, UserWarning)\n"
     ]
    },
    {
     "data": {
      "text/plain": [
       "25"
      ]
     },
     "execution_count": 42,
     "metadata": {},
     "output_type": "execute_result"
    }
   ],
   "source": [
    "from sqlalchemy import create_engine\n",
    "data2=pd.DataFrame(data2)\n",
    "\n",
    "hostname='localhost'\n",
    "dbname='hr'\n",
    "uname='root'\n",
    "pwd='Abhishek%40567'\n",
    "\n",
    "engine = create_engine(\"mysql+pymysql://{user}:{pw}@{host}/{db}\"\n",
    ".format(host=hostname, db=dbname, user=uname, pw=pwd))\n",
    "\n",
    "data2.to_sql('Count_country_wise',engine,index=False)"
   ]
  },
  {
   "cell_type": "markdown",
   "id": "b74bc0d0",
   "metadata": {},
   "source": [
    "## Task3:"
   ]
  },
  {
   "cell_type": "code",
   "execution_count": 48,
   "id": "daeb7cae",
   "metadata": {},
   "outputs": [
    {
     "data": {
      "text/html": [
       "<div>\n",
       "<style scoped>\n",
       "    .dataframe tbody tr th:only-of-type {\n",
       "        vertical-align: middle;\n",
       "    }\n",
       "\n",
       "    .dataframe tbody tr th {\n",
       "        vertical-align: top;\n",
       "    }\n",
       "\n",
       "    .dataframe thead th {\n",
       "        text-align: right;\n",
       "    }\n",
       "</style>\n",
       "<table border=\"1\" class=\"dataframe\">\n",
       "  <thead>\n",
       "    <tr style=\"text-align: right;\">\n",
       "      <th></th>\n",
       "      <th>0</th>\n",
       "      <th>1</th>\n",
       "    </tr>\n",
       "  </thead>\n",
       "  <tbody>\n",
       "    <tr>\n",
       "      <th>0</th>\n",
       "      <td>Argentina</td>\n",
       "      <td>0</td>\n",
       "    </tr>\n",
       "    <tr>\n",
       "      <th>1</th>\n",
       "      <td>Australia</td>\n",
       "      <td>0</td>\n",
       "    </tr>\n",
       "    <tr>\n",
       "      <th>2</th>\n",
       "      <td>Belgium</td>\n",
       "      <td>0</td>\n",
       "    </tr>\n",
       "    <tr>\n",
       "      <th>3</th>\n",
       "      <td>Brazil</td>\n",
       "      <td>0</td>\n",
       "    </tr>\n",
       "    <tr>\n",
       "      <th>4</th>\n",
       "      <td>Canada</td>\n",
       "      <td>2</td>\n",
       "    </tr>\n",
       "    <tr>\n",
       "      <th>5</th>\n",
       "      <td>Switzerland</td>\n",
       "      <td>0</td>\n",
       "    </tr>\n",
       "    <tr>\n",
       "      <th>6</th>\n",
       "      <td>China</td>\n",
       "      <td>0</td>\n",
       "    </tr>\n",
       "    <tr>\n",
       "      <th>7</th>\n",
       "      <td>Germany</td>\n",
       "      <td>1</td>\n",
       "    </tr>\n",
       "    <tr>\n",
       "      <th>8</th>\n",
       "      <td>Denmark</td>\n",
       "      <td>0</td>\n",
       "    </tr>\n",
       "    <tr>\n",
       "      <th>9</th>\n",
       "      <td>Egypt</td>\n",
       "      <td>0</td>\n",
       "    </tr>\n",
       "    <tr>\n",
       "      <th>10</th>\n",
       "      <td>France</td>\n",
       "      <td>0</td>\n",
       "    </tr>\n",
       "    <tr>\n",
       "      <th>11</th>\n",
       "      <td>HongKong</td>\n",
       "      <td>0</td>\n",
       "    </tr>\n",
       "    <tr>\n",
       "      <th>12</th>\n",
       "      <td>Israel</td>\n",
       "      <td>0</td>\n",
       "    </tr>\n",
       "    <tr>\n",
       "      <th>13</th>\n",
       "      <td>India</td>\n",
       "      <td>0</td>\n",
       "    </tr>\n",
       "    <tr>\n",
       "      <th>14</th>\n",
       "      <td>Italy</td>\n",
       "      <td>0</td>\n",
       "    </tr>\n",
       "    <tr>\n",
       "      <th>15</th>\n",
       "      <td>Japan</td>\n",
       "      <td>0</td>\n",
       "    </tr>\n",
       "    <tr>\n",
       "      <th>16</th>\n",
       "      <td>Kuwait</td>\n",
       "      <td>0</td>\n",
       "    </tr>\n",
       "    <tr>\n",
       "      <th>17</th>\n",
       "      <td>Mexico</td>\n",
       "      <td>0</td>\n",
       "    </tr>\n",
       "    <tr>\n",
       "      <th>18</th>\n",
       "      <td>Nigeria</td>\n",
       "      <td>0</td>\n",
       "    </tr>\n",
       "    <tr>\n",
       "      <th>19</th>\n",
       "      <td>Netherlands</td>\n",
       "      <td>0</td>\n",
       "    </tr>\n",
       "    <tr>\n",
       "      <th>20</th>\n",
       "      <td>Singapore</td>\n",
       "      <td>0</td>\n",
       "    </tr>\n",
       "    <tr>\n",
       "      <th>21</th>\n",
       "      <td>United Kingdom</td>\n",
       "      <td>35</td>\n",
       "    </tr>\n",
       "    <tr>\n",
       "      <th>22</th>\n",
       "      <td>United States of America</td>\n",
       "      <td>68</td>\n",
       "    </tr>\n",
       "    <tr>\n",
       "      <th>23</th>\n",
       "      <td>Zambia</td>\n",
       "      <td>0</td>\n",
       "    </tr>\n",
       "    <tr>\n",
       "      <th>24</th>\n",
       "      <td>Zimbabwe</td>\n",
       "      <td>0</td>\n",
       "    </tr>\n",
       "  </tbody>\n",
       "</table>\n",
       "</div>"
      ],
      "text/plain": [
       "                           0   1\n",
       "0                  Argentina   0\n",
       "1                  Australia   0\n",
       "2                    Belgium   0\n",
       "3                     Brazil   0\n",
       "4                     Canada   2\n",
       "5                Switzerland   0\n",
       "6                      China   0\n",
       "7                    Germany   1\n",
       "8                    Denmark   0\n",
       "9                      Egypt   0\n",
       "10                    France   0\n",
       "11                  HongKong   0\n",
       "12                    Israel   0\n",
       "13                     India   0\n",
       "14                     Italy   0\n",
       "15                     Japan   0\n",
       "16                    Kuwait   0\n",
       "17                    Mexico   0\n",
       "18                   Nigeria   0\n",
       "19               Netherlands   0\n",
       "20                 Singapore   0\n",
       "21            United Kingdom  35\n",
       "22  United States of America  68\n",
       "23                    Zambia   0\n",
       "24                  Zimbabwe   0"
      ]
     },
     "execution_count": 48,
     "metadata": {},
     "output_type": "execute_result"
    }
   ],
   "source": [
    "data2.to_csv('data2.csv',index=False)\n",
    "data2"
   ]
  },
  {
   "cell_type": "code",
   "execution_count": 50,
   "id": "3c1ba002",
   "metadata": {},
   "outputs": [
    {
     "data": {
      "text/html": [
       "<div>\n",
       "<style scoped>\n",
       "    .dataframe tbody tr th:only-of-type {\n",
       "        vertical-align: middle;\n",
       "    }\n",
       "\n",
       "    .dataframe tbody tr th {\n",
       "        vertical-align: top;\n",
       "    }\n",
       "\n",
       "    .dataframe thead th {\n",
       "        text-align: right;\n",
       "    }\n",
       "</style>\n",
       "<table border=\"1\" class=\"dataframe\">\n",
       "  <thead>\n",
       "    <tr style=\"text-align: right;\">\n",
       "      <th></th>\n",
       "      <th>0</th>\n",
       "      <th>1</th>\n",
       "    </tr>\n",
       "  </thead>\n",
       "  <tbody>\n",
       "    <tr>\n",
       "      <th>0</th>\n",
       "      <td>Roma</td>\n",
       "      <td>0</td>\n",
       "    </tr>\n",
       "    <tr>\n",
       "      <th>1</th>\n",
       "      <td>Venice</td>\n",
       "      <td>0</td>\n",
       "    </tr>\n",
       "    <tr>\n",
       "      <th>2</th>\n",
       "      <td>Tokyo</td>\n",
       "      <td>0</td>\n",
       "    </tr>\n",
       "    <tr>\n",
       "      <th>3</th>\n",
       "      <td>Hiroshima</td>\n",
       "      <td>0</td>\n",
       "    </tr>\n",
       "    <tr>\n",
       "      <th>4</th>\n",
       "      <td>Southlake</td>\n",
       "      <td>5</td>\n",
       "    </tr>\n",
       "    <tr>\n",
       "      <th>5</th>\n",
       "      <td>South San Francisco</td>\n",
       "      <td>45</td>\n",
       "    </tr>\n",
       "    <tr>\n",
       "      <th>6</th>\n",
       "      <td>South Brunswick</td>\n",
       "      <td>0</td>\n",
       "    </tr>\n",
       "    <tr>\n",
       "      <th>7</th>\n",
       "      <td>Seattle</td>\n",
       "      <td>18</td>\n",
       "    </tr>\n",
       "    <tr>\n",
       "      <th>8</th>\n",
       "      <td>Toronto</td>\n",
       "      <td>2</td>\n",
       "    </tr>\n",
       "    <tr>\n",
       "      <th>9</th>\n",
       "      <td>Whitehorse</td>\n",
       "      <td>0</td>\n",
       "    </tr>\n",
       "    <tr>\n",
       "      <th>10</th>\n",
       "      <td>Beijing</td>\n",
       "      <td>0</td>\n",
       "    </tr>\n",
       "    <tr>\n",
       "      <th>11</th>\n",
       "      <td>Bombay</td>\n",
       "      <td>0</td>\n",
       "    </tr>\n",
       "    <tr>\n",
       "      <th>12</th>\n",
       "      <td>Sydney</td>\n",
       "      <td>0</td>\n",
       "    </tr>\n",
       "    <tr>\n",
       "      <th>13</th>\n",
       "      <td>Singapore</td>\n",
       "      <td>0</td>\n",
       "    </tr>\n",
       "    <tr>\n",
       "      <th>14</th>\n",
       "      <td>London</td>\n",
       "      <td>1</td>\n",
       "    </tr>\n",
       "    <tr>\n",
       "      <th>15</th>\n",
       "      <td>Oxford</td>\n",
       "      <td>34</td>\n",
       "    </tr>\n",
       "    <tr>\n",
       "      <th>16</th>\n",
       "      <td>Stretford</td>\n",
       "      <td>0</td>\n",
       "    </tr>\n",
       "    <tr>\n",
       "      <th>17</th>\n",
       "      <td>Munich</td>\n",
       "      <td>1</td>\n",
       "    </tr>\n",
       "    <tr>\n",
       "      <th>18</th>\n",
       "      <td>Sao Paulo</td>\n",
       "      <td>0</td>\n",
       "    </tr>\n",
       "    <tr>\n",
       "      <th>19</th>\n",
       "      <td>Geneva</td>\n",
       "      <td>0</td>\n",
       "    </tr>\n",
       "    <tr>\n",
       "      <th>20</th>\n",
       "      <td>Bern</td>\n",
       "      <td>0</td>\n",
       "    </tr>\n",
       "    <tr>\n",
       "      <th>21</th>\n",
       "      <td>Utrecht</td>\n",
       "      <td>0</td>\n",
       "    </tr>\n",
       "    <tr>\n",
       "      <th>22</th>\n",
       "      <td>Mexico City</td>\n",
       "      <td>0</td>\n",
       "    </tr>\n",
       "  </tbody>\n",
       "</table>\n",
       "</div>"
      ],
      "text/plain": [
       "                      0   1\n",
       "0                  Roma   0\n",
       "1                Venice   0\n",
       "2                 Tokyo   0\n",
       "3             Hiroshima   0\n",
       "4             Southlake   5\n",
       "5   South San Francisco  45\n",
       "6       South Brunswick   0\n",
       "7               Seattle  18\n",
       "8               Toronto   2\n",
       "9            Whitehorse   0\n",
       "10              Beijing   0\n",
       "11               Bombay   0\n",
       "12               Sydney   0\n",
       "13            Singapore   0\n",
       "14               London   1\n",
       "15               Oxford  34\n",
       "16            Stretford   0\n",
       "17               Munich   1\n",
       "18            Sao Paulo   0\n",
       "19               Geneva   0\n",
       "20                 Bern   0\n",
       "21              Utrecht   0\n",
       "22          Mexico City   0"
      ]
     },
     "execution_count": 50,
     "metadata": {},
     "output_type": "execute_result"
    }
   ],
   "source": [
    "q3='select city, (select count(employee_id) from employees where department_id in (select department_id from departments where location_id=locations.location_id)) as employee_count from locations group by city,locations.location_id;'\n",
    "mycursor.execute(q3)\n",
    "data3=mycursor.fetchall()\n",
    "data3=pd.DataFrame(data3)\n",
    "data3.to_csv('data3.csv',index=False)\n",
    "data3"
   ]
  },
  {
   "cell_type": "code",
   "execution_count": 51,
   "id": "634a2833",
   "metadata": {},
   "outputs": [],
   "source": [
    "import matplotlib.pyplot as plt"
   ]
  },
  {
   "cell_type": "code",
   "execution_count": 62,
   "id": "17945966",
   "metadata": {},
   "outputs": [
    {
     "data": {
      "text/plain": [
       "<BarContainer object of 25 artists>"
      ]
     },
     "execution_count": 62,
     "metadata": {},
     "output_type": "execute_result"
    },
    {
     "data": {
      "image/png": "[encoded data removed]",
      "text/plain": [
       "<Figure size 640x480 with 1 Axes>"
      ]
     },
     "metadata": {},
     "output_type": "display_data"
    }
   ],
   "source": [
    "plt.barh(data2[0],data2[1])"
   ]
  },
  {
   "cell_type": "code",
   "execution_count": 63,
   "id": "47e90acf",
   "metadata": {},
   "outputs": [
    {
     "data": {
      "text/plain": [
       "<BarContainer object of 23 artists>"
      ]
     },
     "execution_count": 63,
     "metadata": {},
     "output_type": "execute_result"
    },
    {
     "data": {
      "image/png": "[encoded data removed]",
      "text/plain": [
       "<Figure size 640x480 with 1 Axes>"
      ]
     },
     "metadata": {},
     "output_type": "display_data"
    }
   ],
   "source": [
    "plt.barh(data3[0],data3[1])"
   ]
  }
 ],
 "metadata": {
  "kernelspec": {
   "display_name": "Python 3 (ipykernel)",
   "language": "python",
   "name": "python3"
  },
  "language_info": {
   "codemirror_mode": {
    "name": "ipython",
    "version": 3
   },
   "file_extension": ".py",
   "mimetype": "text/x-python",
   "name": "python",
   "nbconvert_exporter": "python",
   "pygments_lexer": "ipython3",
   "version": "3.9.13"
  }
 },
 "nbformat": 4,
 "nbformat_minor": 5
}
