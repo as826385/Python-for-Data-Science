{
 "cells": [
  {
   "cell_type": "code",
   "execution_count": 2,
   "id": "63666f2c",
   "metadata": {},
   "outputs": [],
   "source": [
    "import pandas as pd\n",
    "import statistics as st\n",
    "\n",
    "df=pd.read_csv('DS1_C4_S7_Students_Scores_Data_Practice.csv')"
   ]
  },
  {
   "cell_type": "markdown",
   "id": "f09c2189",
   "metadata": {},
   "source": [
    "## Task1:"
   ]
  },
  {
   "cell_type": "code",
   "execution_count": 25,
   "id": "da065bf2",
   "metadata": {},
   "outputs": [],
   "source": [
    "T1a=pd.DataFrame({'Mean' : df.mean()})"
   ]
  },
  {
   "cell_type": "code",
   "execution_count": 26,
   "id": "5df898ed",
   "metadata": {},
   "outputs": [],
   "source": [
    "T2b=pd.DataFrame({'Mode' : df.mode().iloc[0]})"
   ]
  },
  {
   "cell_type": "code",
   "execution_count": 27,
   "id": "12b3e522",
   "metadata": {},
   "outputs": [],
   "source": [
    "T2c=pd.DataFrame({'Median':df.median()})"
   ]
  },
  {
   "cell_type": "code",
   "execution_count": 49,
   "id": "6f9c5362",
   "metadata": {},
   "outputs": [
    {
     "data": {
      "text/html": [
       "<div>\n",
       "<style scoped>\n",
       "    .dataframe tbody tr th:only-of-type {\n",
       "        vertical-align: middle;\n",
       "    }\n",
       "\n",
       "    .dataframe tbody tr th {\n",
       "        vertical-align: top;\n",
       "    }\n",
       "\n",
       "    .dataframe thead th {\n",
       "        text-align: right;\n",
       "    }\n",
       "</style>\n",
       "<table border=\"1\" class=\"dataframe\">\n",
       "  <thead>\n",
       "    <tr style=\"text-align: right;\">\n",
       "      <th></th>\n",
       "      <th>Mean</th>\n",
       "      <th>Mode</th>\n",
       "      <th>Median</th>\n",
       "    </tr>\n",
       "  </thead>\n",
       "  <tbody>\n",
       "    <tr>\n",
       "      <th>Statistics</th>\n",
       "      <td>60.89</td>\n",
       "      <td>55</td>\n",
       "      <td>60.0</td>\n",
       "    </tr>\n",
       "    <tr>\n",
       "      <th>Python</th>\n",
       "      <td>81.84</td>\n",
       "      <td>86</td>\n",
       "      <td>82.0</td>\n",
       "    </tr>\n",
       "    <tr>\n",
       "      <th>Tableau</th>\n",
       "      <td>68.02</td>\n",
       "      <td>65</td>\n",
       "      <td>69.0</td>\n",
       "    </tr>\n",
       "  </tbody>\n",
       "</table>\n",
       "</div>"
      ],
      "text/plain": [
       "             Mean  Mode  Median\n",
       "Statistics  60.89    55    60.0\n",
       "Python      81.84    86    82.0\n",
       "Tableau     68.02    65    69.0"
      ]
     },
     "execution_count": 49,
     "metadata": {},
     "output_type": "execute_result"
    }
   ],
   "source": [
    "T1=pd.concat([T1a,T2b,T2c],axis=1)\n",
    "T1"
   ]
  },
  {
   "cell_type": "markdown",
   "id": "1ce88d04",
   "metadata": {},
   "source": [
    "###### In Python the students have best performance"
   ]
  },
  {
   "cell_type": "markdown",
   "id": "b47a0ba4",
   "metadata": {},
   "source": [
    "## Task2:"
   ]
  },
  {
   "cell_type": "code",
   "execution_count": 45,
   "id": "5c02c27e",
   "metadata": {},
   "outputs": [],
   "source": [
    "T2v=pd.DataFrame({'Variance': df.var()})\n",
    "std=pd.DataFrame({'Standard Deviation': df.std()})\n",
    "T2cof=pd.DataFrame({'Coefficient of Variance': std.loc[:,'Standard Deviation']/T1a.loc[:,'Mean']*100})"
   ]
  },
  {
   "cell_type": "code",
   "execution_count": 52,
   "id": "ebc182cb",
   "metadata": {},
   "outputs": [
    {
     "data": {
      "text/html": [
       "<div>\n",
       "<style scoped>\n",
       "    .dataframe tbody tr th:only-of-type {\n",
       "        vertical-align: middle;\n",
       "    }\n",
       "\n",
       "    .dataframe tbody tr th {\n",
       "        vertical-align: top;\n",
       "    }\n",
       "\n",
       "    .dataframe thead th {\n",
       "        text-align: right;\n",
       "    }\n",
       "</style>\n",
       "<table border=\"1\" class=\"dataframe\">\n",
       "  <thead>\n",
       "    <tr style=\"text-align: right;\">\n",
       "      <th></th>\n",
       "      <th>Variance</th>\n",
       "      <th>Coefficient of Variance</th>\n",
       "      <th>Mean</th>\n",
       "    </tr>\n",
       "  </thead>\n",
       "  <tbody>\n",
       "    <tr>\n",
       "      <th>Statistics</th>\n",
       "      <td>52.361515</td>\n",
       "      <td>11.883931</td>\n",
       "      <td>60.89</td>\n",
       "    </tr>\n",
       "    <tr>\n",
       "      <th>Python</th>\n",
       "      <td>18.883232</td>\n",
       "      <td>5.309731</td>\n",
       "      <td>81.84</td>\n",
       "    </tr>\n",
       "    <tr>\n",
       "      <th>Tableau</th>\n",
       "      <td>53.595556</td>\n",
       "      <td>10.762862</td>\n",
       "      <td>68.02</td>\n",
       "    </tr>\n",
       "  </tbody>\n",
       "</table>\n",
       "</div>"
      ],
      "text/plain": [
       "             Variance  Coefficient of Variance   Mean\n",
       "Statistics  52.361515                11.883931  60.89\n",
       "Python      18.883232                 5.309731  81.84\n",
       "Tableau     53.595556                10.762862  68.02"
      ]
     },
     "execution_count": 52,
     "metadata": {},
     "output_type": "execute_result"
    }
   ],
   "source": [
    "T2=pd.concat([T2v,T2cof,T1a],axis=1)\n",
    "T2"
   ]
  },
  {
   "cell_type": "markdown",
   "id": "055a2976",
   "metadata": {},
   "source": [
    "###### again python shows the best performance for class as the data of python has less variability. so data of python have less spread and is tightly packed"
   ]
  },
  {
   "cell_type": "markdown",
   "id": "28e67274",
   "metadata": {},
   "source": [
    "## Task3:"
   ]
  },
  {
   "cell_type": "code",
   "execution_count": 81,
   "id": "8f718fbf",
   "metadata": {},
   "outputs": [
    {
     "data": {
      "text/plain": [
       "Statistics    0.205542\n",
       "Python        0.122814\n",
       "Tableau      -1.010583\n",
       "dtype: float64"
      ]
     },
     "execution_count": 81,
     "metadata": {},
     "output_type": "execute_result"
    }
   ],
   "source": [
    "df.skew()"
   ]
  },
  {
   "cell_type": "markdown",
   "id": "b3bd0556",
   "metadata": {},
   "source": [
    "###### Tableau have most skewed data as its skewness is far greater than 0 ."
   ]
  },
  {
   "cell_type": "markdown",
   "id": "4a12c227",
   "metadata": {},
   "source": [
    "## Task4:"
   ]
  },
  {
   "cell_type": "code",
   "execution_count": 82,
   "id": "e7eb8411",
   "metadata": {},
   "outputs": [
    {
     "data": {
      "text/plain": [
       "<AxesSubplot:>"
      ]
     },
     "execution_count": 82,
     "metadata": {},
     "output_type": "execute_result"
    },
    {
     "data": {
      "image/png": "[encoded data removed]",
      "text/plain": [
       "<Figure size 640x480 with 1 Axes>"
      ]
     },
     "metadata": {},
     "output_type": "display_data"
    }
   ],
   "source": [
    "df.plot(kind='box')"
   ]
  },
  {
   "cell_type": "markdown",
   "id": "2e371597",
   "metadata": {},
   "source": [
    "###### Tableau have most skewed data as we can clearly see outliers in Tableau"
   ]
  },
  {
   "cell_type": "markdown",
   "id": "507e7c6d",
   "metadata": {},
   "source": [
    "## Task5:"
   ]
  },
  {
   "cell_type": "code",
   "execution_count": 137,
   "id": "57458dcd",
   "metadata": {},
   "outputs": [],
   "source": [
    "import matplotlib.pyplot as plt\n",
    "from scipy.stats import kurtosis "
   ]
  },
  {
   "cell_type": "code",
   "execution_count": 135,
   "id": "77db30a0",
   "metadata": {},
   "outputs": [],
   "source": [
    "S=df['Statistics'].sort_values()\n",
    "P=df['Python'].sort_values()\n",
    "T=df['Tableau'].sort_values()\n",
    "\n",
    "S1=S.mean()\n",
    "S2=S.std()\n",
    "P1=P.mean()\n",
    "P2=P.std()\n",
    "T1=T.mean()\n",
    "T2=T.std()"
   ]
  },
  {
   "cell_type": "code",
   "execution_count": 136,
   "id": "cdbf12fb",
   "metadata": {},
   "outputs": [
    {
     "data": {
      "image/png": "[encoded data removed]",
      "text/plain": [
       "<Figure size 640x480 with 1 Axes>"
      ]
     },
     "metadata": {},
     "output_type": "display_data"
    }
   ],
   "source": [
    "plt.plot(S,norm.pdf(S,S1,S2),color='orange', label='Statistics')\n",
    "plt.plot(P,norm.pdf(P,P1,P2),color='green', label='Python')\n",
    "plt.plot(T,norm.pdf(T,T1,T2),color='blue', label='Tableau')\n",
    "plt.legend()\n",
    "plt.show()"
   ]
  },
  {
   "cell_type": "code",
   "execution_count": 141,
   "id": "5d149ad6",
   "metadata": {},
   "outputs": [
    {
     "data": {
      "text/plain": [
       "array([-1.28903437, -1.27485291,  1.44245905])"
      ]
     },
     "execution_count": 141,
     "metadata": {},
     "output_type": "execute_result"
    }
   ],
   "source": [
    "kurtosis(df)"
   ]
  },
  {
   "cell_type": "markdown",
   "id": "a53caa7b",
   "metadata": {},
   "source": [
    "###### we can see Tableau can have small number of ouliers as it is close to 3. Rest python and statistics does not have any outliers/"
   ]
  }
 ],
 "metadata": {
  "kernelspec": {
   "display_name": "Python 3 (ipykernel)",
   "language": "python",
   "name": "python3"
  },
  "language_info": {
   "codemirror_mode": {
    "name": "ipython",
    "version": 3
   },
   "file_extension": ".py",
   "mimetype": "text/x-python",
   "name": "python",
   "nbconvert_exporter": "python",
   "pygments_lexer": "ipython3",
   "version": "3.9.13"
  }
 },
 "nbformat": 4,
 "nbformat_minor": 5
}
