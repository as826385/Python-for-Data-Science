{
 "cells": [
  {
   "cell_type": "code",
   "execution_count": 1,
   "id": "eb37cf9e",
   "metadata": {},
   "outputs": [],
   "source": [
    "import numpy as np"
   ]
  },
  {
   "cell_type": "code",
   "execution_count": 2,
   "id": "778ddb79",
   "metadata": {},
   "outputs": [],
   "source": [
    "emp=np.genfromtxt('DS1_C4_S1_Employee_Data_Challenge.csv',delimiter=',',skip_header=1)"
   ]
  },
  {
   "cell_type": "markdown",
   "id": "738ec458",
   "metadata": {},
   "source": [
    "### Task1:"
   ]
  },
  {
   "cell_type": "code",
   "execution_count": 9,
   "id": "e9bb04ba",
   "metadata": {},
   "outputs": [
    {
     "name": "stdout",
     "output_type": "stream",
     "text": [
      "28.26\n"
     ]
    }
   ],
   "source": [
    "average_age=np.mean(emp[:,1])\n",
    "print(average_age)"
   ]
  },
  {
   "cell_type": "markdown",
   "id": "0225677d",
   "metadata": {},
   "source": [
    "### Task2:"
   ]
  },
  {
   "cell_type": "code",
   "execution_count": 27,
   "id": "5f58a6f6",
   "metadata": {},
   "outputs": [
    {
     "name": "stdout",
     "output_type": "stream",
     "text": [
      "[ 2.  3.  4.  5.  6.  7.  9. 10. 11. 12. 14. 15. 16. 17. 20. 21. 22. 24.\n",
      " 25. 26. 27. 28. 29. 30. 31. 32. 33. 37. 38. 40. 41. 42. 43. 44. 45. 46.\n",
      " 49. 50.]\n",
      "\n",
      "The count of employees above 25 years of age is: 38\n"
     ]
    }
   ],
   "source": [
    "index=np.where(emp[:,1]>25)\n",
    "ID=emp[:,0][index]\n",
    "print(ID)\n",
    "count=ID.size\n",
    "print()\n",
    "print(\"The count of employees above 25 years of age is:\", count)"
   ]
  },
  {
   "cell_type": "markdown",
   "id": "5a47cab2",
   "metadata": {},
   "source": [
    "### Task3:"
   ]
  },
  {
   "cell_type": "code",
   "execution_count": 33,
   "id": "1fc0d524",
   "metadata": {},
   "outputs": [
    {
     "name": "stdout",
     "output_type": "stream",
     "text": [
      "[ 3. 10. 15. 16. 32. 41. 42. 43. 44. 45. 49. 50.]\n",
      "\n",
      "The total number of employees who are in age group 30-35 are:  12\n"
     ]
    }
   ],
   "source": [
    "index=np.where((emp[:,1]<=35)&(emp[:,1]>=30))\n",
    "id=emp[:,0][index]\n",
    "print(id)\n",
    "print()\n",
    "print(\"The total number of employees who are in age group 30-35 are: \",id.size)"
   ]
  }
 ],
 "metadata": {
  "kernelspec": {
   "display_name": "Python 3 (ipykernel)",
   "language": "python",
   "name": "python3"
  },
  "language_info": {
   "codemirror_mode": {
    "name": "ipython",
    "version": 3
   },
   "file_extension": ".py",
   "mimetype": "text/x-python",
   "name": "python",
   "nbconvert_exporter": "python",
   "pygments_lexer": "ipython3",
   "version": "3.9.13"
  }
 },
 "nbformat": 4,
 "nbformat_minor": 5
}
