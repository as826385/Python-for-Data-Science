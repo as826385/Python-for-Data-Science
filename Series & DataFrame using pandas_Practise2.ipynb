{
 "cells": [
  {
   "cell_type": "code",
   "execution_count": 1,
   "id": "85bb71ca",
   "metadata": {},
   "outputs": [],
   "source": [
    "import numpy as np\n",
    "import pandas as pd"
   ]
  },
  {
   "cell_type": "markdown",
   "id": "2280651e",
   "metadata": {},
   "source": [
    "### Task1:"
   ]
  },
  {
   "cell_type": "code",
   "execution_count": 2,
   "id": "db8abcf2",
   "metadata": {},
   "outputs": [],
   "source": [
    "id=np.arange(1001,1041)"
   ]
  },
  {
   "cell_type": "code",
   "execution_count": 3,
   "id": "f50c1ca9",
   "metadata": {},
   "outputs": [
    {
     "data": {
      "text/plain": [
       "array([1001, 1002, 1003, 1004, 1005, 1006, 1007, 1008, 1009, 1010, 1011,\n",
       "       1012, 1013, 1014, 1015, 1016, 1017, 1018, 1019, 1020, 1021, 1022,\n",
       "       1023, 1024, 1025, 1026, 1027, 1028, 1029, 1030, 1031, 1032, 1033,\n",
       "       1034, 1035, 1036, 1037, 1038, 1039, 1040])"
      ]
     },
     "execution_count": 3,
     "metadata": {},
     "output_type": "execute_result"
    }
   ],
   "source": [
    "id"
   ]
  },
  {
   "cell_type": "code",
   "execution_count": 4,
   "id": "8ecfb345",
   "metadata": {},
   "outputs": [
    {
     "name": "stdout",
     "output_type": "stream",
     "text": [
      "1     1001\n",
      "2     1002\n",
      "3     1003\n",
      "4     1004\n",
      "5     1005\n",
      "6     1006\n",
      "7     1007\n",
      "8     1008\n",
      "9     1009\n",
      "10    1010\n",
      "11    1011\n",
      "12    1012\n",
      "13    1013\n",
      "14    1014\n",
      "15    1015\n",
      "16    1016\n",
      "17    1017\n",
      "18    1018\n",
      "19    1019\n",
      "20    1020\n",
      "21    1021\n",
      "22    1022\n",
      "23    1023\n",
      "24    1024\n",
      "25    1025\n",
      "26    1026\n",
      "27    1027\n",
      "28    1028\n",
      "29    1029\n",
      "30    1030\n",
      "31    1031\n",
      "32    1032\n",
      "33    1033\n",
      "34    1034\n",
      "35    1035\n",
      "36    1036\n",
      "37    1037\n",
      "38    1038\n",
      "39    1039\n",
      "40    1040\n",
      "dtype: int32\n"
     ]
    }
   ],
   "source": [
    "a=pd.Series(id,index=np.arange(1,len(id)+1))\n",
    "print(a)"
   ]
  },
  {
   "cell_type": "markdown",
   "id": "66d39c00",
   "metadata": {},
   "source": [
    "### Task2:"
   ]
  },
  {
   "cell_type": "code",
   "execution_count": 5,
   "id": "e9750f6a",
   "metadata": {},
   "outputs": [],
   "source": [
    "maths_marks=[35, 86, 63, 90, 50, 63, 15, 72, 15, 54, 72, 83, 58, 70, 92, 40, 59, 63, 53, 59, 55, 85, 18, 83, 67, 85, 46, 59, 77, 71, 77, 56, 79, 61, 82, 76, 60, 52, 88, 78]\n",
    "physics_marks=[85, 94, 63, 59, 76, 64, 87, 55, 51, 71, 54, 94, 33, 72, 75, 67, 85, 15, 50, 50, 19, 55, 59, 65, 76, 13, 57, 70, 51, 94, 55, 50, 71, 91, 75, 51, 90, 70, 87, 56]"
   ]
  },
  {
   "cell_type": "code",
   "execution_count": 6,
   "id": "fd4ead19",
   "metadata": {},
   "outputs": [],
   "source": [
    "m=pd.Series(maths_marks,index=a)\n",
    "p=pd.Series(physics_marks,index=a)"
   ]
  },
  {
   "cell_type": "code",
   "execution_count": 7,
   "id": "877845fc",
   "metadata": {},
   "outputs": [
    {
     "name": "stdout",
     "output_type": "stream",
     "text": [
      "1001    35\n",
      "1002    86\n",
      "1003    63\n",
      "1004    90\n",
      "1005    50\n",
      "1006    63\n",
      "1007    15\n",
      "1008    72\n",
      "1009    15\n",
      "1010    54\n",
      "1011    72\n",
      "1012    83\n",
      "1013    58\n",
      "1014    70\n",
      "1015    92\n",
      "1016    40\n",
      "1017    59\n",
      "1018    63\n",
      "1019    53\n",
      "1020    59\n",
      "1021    55\n",
      "1022    85\n",
      "1023    18\n",
      "1024    83\n",
      "1025    67\n",
      "1026    85\n",
      "1027    46\n",
      "1028    59\n",
      "1029    77\n",
      "1030    71\n",
      "1031    77\n",
      "1032    56\n",
      "1033    79\n",
      "1034    61\n",
      "1035    82\n",
      "1036    76\n",
      "1037    60\n",
      "1038    52\n",
      "1039    88\n",
      "1040    78\n",
      "dtype: int64\n",
      "\n",
      "1001    85\n",
      "1002    94\n",
      "1003    63\n",
      "1004    59\n",
      "1005    76\n",
      "1006    64\n",
      "1007    87\n",
      "1008    55\n",
      "1009    51\n",
      "1010    71\n",
      "1011    54\n",
      "1012    94\n",
      "1013    33\n",
      "1014    72\n",
      "1015    75\n",
      "1016    67\n",
      "1017    85\n",
      "1018    15\n",
      "1019    50\n",
      "1020    50\n",
      "1021    19\n",
      "1022    55\n",
      "1023    59\n",
      "1024    65\n",
      "1025    76\n",
      "1026    13\n",
      "1027    57\n",
      "1028    70\n",
      "1029    51\n",
      "1030    94\n",
      "1031    55\n",
      "1032    50\n",
      "1033    71\n",
      "1034    91\n",
      "1035    75\n",
      "1036    51\n",
      "1037    90\n",
      "1038    70\n",
      "1039    87\n",
      "1040    56\n",
      "dtype: int64\n"
     ]
    }
   ],
   "source": [
    "print(m)\n",
    "print()\n",
    "print(p)"
   ]
  },
  {
   "cell_type": "markdown",
   "id": "ba176974",
   "metadata": {},
   "source": [
    "### Task3:"
   ]
  },
  {
   "cell_type": "code",
   "execution_count": 8,
   "id": "73306423",
   "metadata": {},
   "outputs": [],
   "source": [
    "total_score=m+p"
   ]
  },
  {
   "cell_type": "code",
   "execution_count": 9,
   "id": "6f1bcdda",
   "metadata": {},
   "outputs": [
    {
     "data": {
      "text/plain": [
       "1001    120\n",
       "1002    180\n",
       "1003    126\n",
       "1004    149\n",
       "1005    126\n",
       "1006    127\n",
       "1007    102\n",
       "1008    127\n",
       "1009     66\n",
       "1010    125\n",
       "1011    126\n",
       "1012    177\n",
       "1013     91\n",
       "1014    142\n",
       "1015    167\n",
       "1016    107\n",
       "1017    144\n",
       "1018     78\n",
       "1019    103\n",
       "1020    109\n",
       "1021     74\n",
       "1022    140\n",
       "1023     77\n",
       "1024    148\n",
       "1025    143\n",
       "1026     98\n",
       "1027    103\n",
       "1028    129\n",
       "1029    128\n",
       "1030    165\n",
       "1031    132\n",
       "1032    106\n",
       "1033    150\n",
       "1034    152\n",
       "1035    157\n",
       "1036    127\n",
       "1037    150\n",
       "1038    122\n",
       "1039    175\n",
       "1040    134\n",
       "dtype: int64"
      ]
     },
     "execution_count": 9,
     "metadata": {},
     "output_type": "execute_result"
    }
   ],
   "source": [
    "pd.Series(total_score)"
   ]
  },
  {
   "cell_type": "markdown",
   "id": "7243d370",
   "metadata": {},
   "source": [
    "### Task4:"
   ]
  },
  {
   "cell_type": "code",
   "execution_count": 10,
   "id": "0e2c7f83",
   "metadata": {},
   "outputs": [
    {
     "name": "stdout",
     "output_type": "stream",
     "text": [
      "Int64Index([1001, 1002, 1003, 1004, 1005, 1006, 1008, 1010, 1011, 1012, 1014,\n",
      "            1015, 1017, 1022, 1024, 1025, 1028, 1029, 1030, 1031, 1033, 1034,\n",
      "            1035, 1036, 1037, 1038, 1039, 1040],\n",
      "           dtype='int64')\n"
     ]
    }
   ],
   "source": [
    "qualify=total_score[total_score>=120]\n",
    "print(qualify.index)"
   ]
  },
  {
   "cell_type": "markdown",
   "id": "1a6d1ac2",
   "metadata": {},
   "source": [
    "### Task5:"
   ]
  },
  {
   "cell_type": "code",
   "execution_count": 11,
   "id": "6eba9d35",
   "metadata": {},
   "outputs": [],
   "source": [
    "a=pd.DataFrame({'Round 1 Qualifiers':qualify})"
   ]
  },
  {
   "cell_type": "code",
   "execution_count": 13,
   "id": "c1af6961",
   "metadata": {},
   "outputs": [
    {
     "data": {
      "text/html": [
       "<div>\n",
       "<style scoped>\n",
       "    .dataframe tbody tr th:only-of-type {\n",
       "        vertical-align: middle;\n",
       "    }\n",
       "\n",
       "    .dataframe tbody tr th {\n",
       "        vertical-align: top;\n",
       "    }\n",
       "\n",
       "    .dataframe thead th {\n",
       "        text-align: right;\n",
       "    }\n",
       "</style>\n",
       "<table border=\"1\" class=\"dataframe\">\n",
       "  <thead>\n",
       "    <tr style=\"text-align: right;\">\n",
       "      <th></th>\n",
       "      <th>Round 1 Qualifiers</th>\n",
       "    </tr>\n",
       "  </thead>\n",
       "  <tbody>\n",
       "    <tr>\n",
       "      <th>1001</th>\n",
       "      <td>120</td>\n",
       "    </tr>\n",
       "    <tr>\n",
       "      <th>1002</th>\n",
       "      <td>180</td>\n",
       "    </tr>\n",
       "    <tr>\n",
       "      <th>1003</th>\n",
       "      <td>126</td>\n",
       "    </tr>\n",
       "    <tr>\n",
       "      <th>1004</th>\n",
       "      <td>149</td>\n",
       "    </tr>\n",
       "    <tr>\n",
       "      <th>1005</th>\n",
       "      <td>126</td>\n",
       "    </tr>\n",
       "    <tr>\n",
       "      <th>1006</th>\n",
       "      <td>127</td>\n",
       "    </tr>\n",
       "    <tr>\n",
       "      <th>1008</th>\n",
       "      <td>127</td>\n",
       "    </tr>\n",
       "    <tr>\n",
       "      <th>1010</th>\n",
       "      <td>125</td>\n",
       "    </tr>\n",
       "    <tr>\n",
       "      <th>1011</th>\n",
       "      <td>126</td>\n",
       "    </tr>\n",
       "    <tr>\n",
       "      <th>1012</th>\n",
       "      <td>177</td>\n",
       "    </tr>\n",
       "    <tr>\n",
       "      <th>1014</th>\n",
       "      <td>142</td>\n",
       "    </tr>\n",
       "    <tr>\n",
       "      <th>1015</th>\n",
       "      <td>167</td>\n",
       "    </tr>\n",
       "    <tr>\n",
       "      <th>1017</th>\n",
       "      <td>144</td>\n",
       "    </tr>\n",
       "    <tr>\n",
       "      <th>1022</th>\n",
       "      <td>140</td>\n",
       "    </tr>\n",
       "    <tr>\n",
       "      <th>1024</th>\n",
       "      <td>148</td>\n",
       "    </tr>\n",
       "    <tr>\n",
       "      <th>1025</th>\n",
       "      <td>143</td>\n",
       "    </tr>\n",
       "    <tr>\n",
       "      <th>1028</th>\n",
       "      <td>129</td>\n",
       "    </tr>\n",
       "    <tr>\n",
       "      <th>1029</th>\n",
       "      <td>128</td>\n",
       "    </tr>\n",
       "    <tr>\n",
       "      <th>1030</th>\n",
       "      <td>165</td>\n",
       "    </tr>\n",
       "    <tr>\n",
       "      <th>1031</th>\n",
       "      <td>132</td>\n",
       "    </tr>\n",
       "    <tr>\n",
       "      <th>1033</th>\n",
       "      <td>150</td>\n",
       "    </tr>\n",
       "    <tr>\n",
       "      <th>1034</th>\n",
       "      <td>152</td>\n",
       "    </tr>\n",
       "    <tr>\n",
       "      <th>1035</th>\n",
       "      <td>157</td>\n",
       "    </tr>\n",
       "    <tr>\n",
       "      <th>1036</th>\n",
       "      <td>127</td>\n",
       "    </tr>\n",
       "    <tr>\n",
       "      <th>1037</th>\n",
       "      <td>150</td>\n",
       "    </tr>\n",
       "    <tr>\n",
       "      <th>1038</th>\n",
       "      <td>122</td>\n",
       "    </tr>\n",
       "    <tr>\n",
       "      <th>1039</th>\n",
       "      <td>175</td>\n",
       "    </tr>\n",
       "    <tr>\n",
       "      <th>1040</th>\n",
       "      <td>134</td>\n",
       "    </tr>\n",
       "  </tbody>\n",
       "</table>\n",
       "</div>"
      ],
      "text/plain": [
       "      Round 1 Qualifiers\n",
       "1001                 120\n",
       "1002                 180\n",
       "1003                 126\n",
       "1004                 149\n",
       "1005                 126\n",
       "1006                 127\n",
       "1008                 127\n",
       "1010                 125\n",
       "1011                 126\n",
       "1012                 177\n",
       "1014                 142\n",
       "1015                 167\n",
       "1017                 144\n",
       "1022                 140\n",
       "1024                 148\n",
       "1025                 143\n",
       "1028                 129\n",
       "1029                 128\n",
       "1030                 165\n",
       "1031                 132\n",
       "1033                 150\n",
       "1034                 152\n",
       "1035                 157\n",
       "1036                 127\n",
       "1037                 150\n",
       "1038                 122\n",
       "1039                 175\n",
       "1040                 134"
      ]
     },
     "execution_count": 13,
     "metadata": {},
     "output_type": "execute_result"
    }
   ],
   "source": [
    "a"
   ]
  },
  {
   "cell_type": "markdown",
   "id": "a149b944",
   "metadata": {},
   "source": [
    "### Task6:"
   ]
  },
  {
   "cell_type": "code",
   "execution_count": 17,
   "id": "ff80bbae",
   "metadata": {},
   "outputs": [],
   "source": [
    "math=m[m>=50]\n",
    "physics=p[p>=50]\n"
   ]
  },
  {
   "cell_type": "code",
   "execution_count": 23,
   "id": "003f8503",
   "metadata": {},
   "outputs": [],
   "source": [
    "qualify2=qualify.index.intersection(math.index).intersection(physics.index)"
   ]
  },
  {
   "cell_type": "code",
   "execution_count": 25,
   "id": "e6bfea04",
   "metadata": {},
   "outputs": [],
   "source": [
    "b=pd.DataFrame({'Round 2 Qualifiers':qualify2})"
   ]
  },
  {
   "cell_type": "code",
   "execution_count": 26,
   "id": "6f7f590d",
   "metadata": {},
   "outputs": [
    {
     "data": {
      "text/html": [
       "<div>\n",
       "<style scoped>\n",
       "    .dataframe tbody tr th:only-of-type {\n",
       "        vertical-align: middle;\n",
       "    }\n",
       "\n",
       "    .dataframe tbody tr th {\n",
       "        vertical-align: top;\n",
       "    }\n",
       "\n",
       "    .dataframe thead th {\n",
       "        text-align: right;\n",
       "    }\n",
       "</style>\n",
       "<table border=\"1\" class=\"dataframe\">\n",
       "  <thead>\n",
       "    <tr style=\"text-align: right;\">\n",
       "      <th></th>\n",
       "      <th>Round 2 Qualifiers</th>\n",
       "    </tr>\n",
       "  </thead>\n",
       "  <tbody>\n",
       "    <tr>\n",
       "      <th>0</th>\n",
       "      <td>1002</td>\n",
       "    </tr>\n",
       "    <tr>\n",
       "      <th>1</th>\n",
       "      <td>1003</td>\n",
       "    </tr>\n",
       "    <tr>\n",
       "      <th>2</th>\n",
       "      <td>1004</td>\n",
       "    </tr>\n",
       "    <tr>\n",
       "      <th>3</th>\n",
       "      <td>1005</td>\n",
       "    </tr>\n",
       "    <tr>\n",
       "      <th>4</th>\n",
       "      <td>1006</td>\n",
       "    </tr>\n",
       "    <tr>\n",
       "      <th>5</th>\n",
       "      <td>1008</td>\n",
       "    </tr>\n",
       "    <tr>\n",
       "      <th>6</th>\n",
       "      <td>1010</td>\n",
       "    </tr>\n",
       "    <tr>\n",
       "      <th>7</th>\n",
       "      <td>1011</td>\n",
       "    </tr>\n",
       "    <tr>\n",
       "      <th>8</th>\n",
       "      <td>1012</td>\n",
       "    </tr>\n",
       "    <tr>\n",
       "      <th>9</th>\n",
       "      <td>1014</td>\n",
       "    </tr>\n",
       "    <tr>\n",
       "      <th>10</th>\n",
       "      <td>1015</td>\n",
       "    </tr>\n",
       "    <tr>\n",
       "      <th>11</th>\n",
       "      <td>1017</td>\n",
       "    </tr>\n",
       "    <tr>\n",
       "      <th>12</th>\n",
       "      <td>1022</td>\n",
       "    </tr>\n",
       "    <tr>\n",
       "      <th>13</th>\n",
       "      <td>1024</td>\n",
       "    </tr>\n",
       "    <tr>\n",
       "      <th>14</th>\n",
       "      <td>1025</td>\n",
       "    </tr>\n",
       "    <tr>\n",
       "      <th>15</th>\n",
       "      <td>1028</td>\n",
       "    </tr>\n",
       "    <tr>\n",
       "      <th>16</th>\n",
       "      <td>1029</td>\n",
       "    </tr>\n",
       "    <tr>\n",
       "      <th>17</th>\n",
       "      <td>1030</td>\n",
       "    </tr>\n",
       "    <tr>\n",
       "      <th>18</th>\n",
       "      <td>1031</td>\n",
       "    </tr>\n",
       "    <tr>\n",
       "      <th>19</th>\n",
       "      <td>1033</td>\n",
       "    </tr>\n",
       "    <tr>\n",
       "      <th>20</th>\n",
       "      <td>1034</td>\n",
       "    </tr>\n",
       "    <tr>\n",
       "      <th>21</th>\n",
       "      <td>1035</td>\n",
       "    </tr>\n",
       "    <tr>\n",
       "      <th>22</th>\n",
       "      <td>1036</td>\n",
       "    </tr>\n",
       "    <tr>\n",
       "      <th>23</th>\n",
       "      <td>1037</td>\n",
       "    </tr>\n",
       "    <tr>\n",
       "      <th>24</th>\n",
       "      <td>1038</td>\n",
       "    </tr>\n",
       "    <tr>\n",
       "      <th>25</th>\n",
       "      <td>1039</td>\n",
       "    </tr>\n",
       "    <tr>\n",
       "      <th>26</th>\n",
       "      <td>1040</td>\n",
       "    </tr>\n",
       "  </tbody>\n",
       "</table>\n",
       "</div>"
      ],
      "text/plain": [
       "    Round 2 Qualifiers\n",
       "0                 1002\n",
       "1                 1003\n",
       "2                 1004\n",
       "3                 1005\n",
       "4                 1006\n",
       "5                 1008\n",
       "6                 1010\n",
       "7                 1011\n",
       "8                 1012\n",
       "9                 1014\n",
       "10                1015\n",
       "11                1017\n",
       "12                1022\n",
       "13                1024\n",
       "14                1025\n",
       "15                1028\n",
       "16                1029\n",
       "17                1030\n",
       "18                1031\n",
       "19                1033\n",
       "20                1034\n",
       "21                1035\n",
       "22                1036\n",
       "23                1037\n",
       "24                1038\n",
       "25                1039\n",
       "26                1040"
      ]
     },
     "execution_count": 26,
     "metadata": {},
     "output_type": "execute_result"
    }
   ],
   "source": [
    "b"
   ]
  },
  {
   "cell_type": "markdown",
   "id": "f3fdc67d",
   "metadata": {},
   "source": [
    "### Task7:"
   ]
  },
  {
   "cell_type": "code",
   "execution_count": 28,
   "id": "e27c1573",
   "metadata": {},
   "outputs": [
    {
     "name": "stdout",
     "output_type": "stream",
     "text": [
      "27\n"
     ]
    }
   ],
   "source": [
    "print(b.size)"
   ]
  }
 ],
 "metadata": {
  "kernelspec": {
   "display_name": "Python 3 (ipykernel)",
   "language": "python",
   "name": "python3"
  },
  "language_info": {
   "codemirror_mode": {
    "name": "ipython",
    "version": 3
   },
   "file_extension": ".py",
   "mimetype": "text/x-python",
   "name": "python",
   "nbconvert_exporter": "python",
   "pygments_lexer": "ipython3",
   "version": "3.9.13"
  }
 },
 "nbformat": 4,
 "nbformat_minor": 5
}
