{
 "cells": [
  {
   "cell_type": "code",
   "execution_count": 1,
   "id": "febb0115",
   "metadata": {},
   "outputs": [],
   "source": [
    "import pandas as pd\n",
    "import mysql.connector as sql"
   ]
  },
  {
   "cell_type": "code",
   "execution_count": 2,
   "id": "b6e6e3de",
   "metadata": {},
   "outputs": [],
   "source": [
    "db=pd.read_csv('DS1_C4_S6_House_Prices_Data_Challenge.csv')"
   ]
  },
  {
   "cell_type": "markdown",
   "id": "8593062a",
   "metadata": {},
   "source": [
    "## Task1:"
   ]
  },
  {
   "cell_type": "code",
   "execution_count": 3,
   "id": "92108276",
   "metadata": {},
   "outputs": [],
   "source": [
    "T1=db[(db['LotArea']>=6000)&(db['LotConfig']=='Corner')]"
   ]
  },
  {
   "cell_type": "code",
   "execution_count": 4,
   "id": "7e08a03b",
   "metadata": {},
   "outputs": [
    {
     "name": "stderr",
     "output_type": "stream",
     "text": [
      "C:\\Users\\as826\\anaconda3\\lib\\site-packages\\pandas\\io\\sql.py:1666: UserWarning: The provided table name 'Task_1' is not found exactly as such in the database after writing the table, possibly due to case sensitivity issues. Consider using lower case table names.\n",
      "  warnings.warn(msg, UserWarning)\n"
     ]
    },
    {
     "data": {
      "text/plain": [
       "241"
      ]
     },
     "execution_count": 4,
     "metadata": {},
     "output_type": "execute_result"
    }
   ],
   "source": [
    "from sqlalchemy import create_engine\n",
    "\n",
    "hostname=\"localhost\"\n",
    "dbname=\"C6\" \n",
    "uname=\"root\"\n",
    "pwd=\"Abhishek%40567\"\n",
    "\n",
    "engine = create_engine(\"mysql+pymysql://{user}:{pw}@{host}/{db}\"\n",
    ".format(host=hostname, db=dbname, user=uname, pw=pwd))\n",
    "\n",
    "T1.to_sql('Task_1',engine,index=False)"
   ]
  },
  {
   "cell_type": "markdown",
   "id": "4d0051d2",
   "metadata": {},
   "source": [
    "## Task2:"
   ]
  },
  {
   "cell_type": "code",
   "execution_count": 5,
   "id": "41e45664",
   "metadata": {},
   "outputs": [],
   "source": [
    "T2=db[(db['BldgType']=='1Fam')&(db['HouseStyle']=='1Story')&(db['LandContour']=='Lvl')]"
   ]
  },
  {
   "cell_type": "code",
   "execution_count": 6,
   "id": "106cfbaa",
   "metadata": {},
   "outputs": [
    {
     "name": "stderr",
     "output_type": "stream",
     "text": [
      "C:\\Users\\as826\\anaconda3\\lib\\site-packages\\pandas\\io\\sql.py:1666: UserWarning: The provided table name 'Task_2' is not found exactly as such in the database after writing the table, possibly due to case sensitivity issues. Consider using lower case table names.\n",
      "  warnings.warn(msg, UserWarning)\n"
     ]
    },
    {
     "data": {
      "text/plain": [
       "545"
      ]
     },
     "execution_count": 6,
     "metadata": {},
     "output_type": "execute_result"
    }
   ],
   "source": [
    "hostname=\"localhost\"\n",
    "dbname=\"C6\" \n",
    "uname=\"root\"\n",
    "pwd=\"Abhishek%40567\"\n",
    "\n",
    "engine = create_engine(\"mysql+pymysql://{user}:{pw}@{host}/{db}\"\n",
    ".format(host=hostname, db=dbname, user=uname, pw=pwd))\n",
    "\n",
    "T2.to_sql('Task_2',engine,index=False)"
   ]
  },
  {
   "cell_type": "markdown",
   "id": "7164b164",
   "metadata": {},
   "source": [
    "## Task3:"
   ]
  },
  {
   "cell_type": "code",
   "execution_count": 7,
   "id": "fb7deb01",
   "metadata": {},
   "outputs": [],
   "source": [
    "T3=db[(db['BldgType']=='TwnhsE')]"
   ]
  },
  {
   "cell_type": "code",
   "execution_count": 8,
   "id": "535897b6",
   "metadata": {},
   "outputs": [
    {
     "name": "stderr",
     "output_type": "stream",
     "text": [
      "C:\\Users\\as826\\anaconda3\\lib\\site-packages\\pandas\\io\\sql.py:1666: UserWarning: The provided table name 'Task_3' is not found exactly as such in the database after writing the table, possibly due to case sensitivity issues. Consider using lower case table names.\n",
      "  warnings.warn(msg, UserWarning)\n"
     ]
    },
    {
     "data": {
      "text/plain": [
       "114"
      ]
     },
     "execution_count": 8,
     "metadata": {},
     "output_type": "execute_result"
    }
   ],
   "source": [
    "hostname=\"localhost\"\n",
    "dbname=\"C6\" \n",
    "uname=\"root\"\n",
    "pwd=\"Abhishek%40567\"\n",
    "\n",
    "engine = create_engine(\"mysql+pymysql://{user}:{pw}@{host}/{db}\"\n",
    ".format(host=hostname, db=dbname, user=uname, pw=pwd))\n",
    "\n",
    "T3.to_sql('Task_3',engine,index=False)"
   ]
  },
  {
   "cell_type": "markdown",
   "id": "797c2534",
   "metadata": {},
   "source": [
    "## Task4:"
   ]
  },
  {
   "cell_type": "code",
   "execution_count": 9,
   "id": "3801df35",
   "metadata": {},
   "outputs": [],
   "source": [
    "T4=db[(db['BedroomAbvGr']>=3)&(db['TotalBsmtSF']>0)&(db['Exterior1st']=='CemntBd')&(db['Exterior2nd']=='CmentBd')]"
   ]
  },
  {
   "cell_type": "code",
   "execution_count": 10,
   "id": "af213b69",
   "metadata": {},
   "outputs": [
    {
     "name": "stderr",
     "output_type": "stream",
     "text": [
      "C:\\Users\\as826\\anaconda3\\lib\\site-packages\\pandas\\io\\sql.py:1666: UserWarning: The provided table name 'Task_4' is not found exactly as such in the database after writing the table, possibly due to case sensitivity issues. Consider using lower case table names.\n",
      "  warnings.warn(msg, UserWarning)\n"
     ]
    },
    {
     "data": {
      "text/plain": [
       "42"
      ]
     },
     "execution_count": 10,
     "metadata": {},
     "output_type": "execute_result"
    }
   ],
   "source": [
    "hostname=\"localhost\"\n",
    "dbname=\"C6\" \n",
    "uname=\"root\"\n",
    "pwd=\"Abhishek%40567\"\n",
    "\n",
    "engine = create_engine(\"mysql+pymysql://{user}:{pw}@{host}/{db}\"\n",
    ".format(host=hostname, db=dbname, user=uname, pw=pwd))\n",
    "\n",
    "T4.to_sql('Task_4',engine,index=False)"
   ]
  },
  {
   "cell_type": "markdown",
   "id": "8ab5834b",
   "metadata": {},
   "source": [
    "## Task5:"
   ]
  },
  {
   "cell_type": "code",
   "execution_count": 11,
   "id": "179f3bcf",
   "metadata": {},
   "outputs": [],
   "source": [
    "T5=db[(db['GarageArea']>=500)]"
   ]
  },
  {
   "cell_type": "code",
   "execution_count": 12,
   "id": "54e43b3a",
   "metadata": {},
   "outputs": [
    {
     "name": "stderr",
     "output_type": "stream",
     "text": [
      "C:\\Users\\as826\\anaconda3\\lib\\site-packages\\pandas\\io\\sql.py:1666: UserWarning: The provided table name 'Task_5' is not found exactly as such in the database after writing the table, possibly due to case sensitivity issues. Consider using lower case table names.\n",
      "  warnings.warn(msg, UserWarning)\n"
     ]
    },
    {
     "data": {
      "text/plain": [
       "635"
      ]
     },
     "execution_count": 12,
     "metadata": {},
     "output_type": "execute_result"
    }
   ],
   "source": [
    "hostname=\"localhost\"\n",
    "dbname=\"C6\" \n",
    "uname=\"root\"\n",
    "pwd=\"Abhishek%40567\"\n",
    "\n",
    "engine = create_engine(\"mysql+pymysql://{user}:{pw}@{host}/{db}\"\n",
    ".format(host=hostname, db=dbname, user=uname, pw=pwd))\n",
    "\n",
    "T5.to_sql('Task_5',engine,index=False)"
   ]
  }
 ],
 "metadata": {
  "kernelspec": {
   "display_name": "Python 3 (ipykernel)",
   "language": "python",
   "name": "python3"
  },
  "language_info": {
   "codemirror_mode": {
    "name": "ipython",
    "version": 3
   },
   "file_extension": ".py",
   "mimetype": "text/x-python",
   "name": "python",
   "nbconvert_exporter": "python",
   "pygments_lexer": "ipython3",
   "version": "3.9.13"
  }
 },
 "nbformat": 4,
 "nbformat_minor": 5
}
