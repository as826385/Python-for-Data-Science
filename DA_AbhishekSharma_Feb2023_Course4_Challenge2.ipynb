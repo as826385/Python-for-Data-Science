{
 "cells": [
  {
   "cell_type": "code",
   "execution_count": 4,
   "id": "f4a3958a",
   "metadata": {},
   "outputs": [],
   "source": [
    "import numpy as np\n",
    "import pandas as pd"
   ]
  },
  {
   "cell_type": "markdown",
   "id": "8c9891ac",
   "metadata": {},
   "source": [
    "### Task1:"
   ]
  },
  {
   "cell_type": "code",
   "execution_count": 5,
   "id": "eddc71b7",
   "metadata": {},
   "outputs": [],
   "source": [
    "price = [80121, 48483, 37077, 30660, 68536, 52666, 78703, 51036, 55643, 56990, 39967, 93822, 51406, 93947, 78373, 62765, 47536, 40528, 58780, 83197]"
   ]
  },
  {
   "cell_type": "code",
   "execution_count": 6,
   "id": "7a4faab1",
   "metadata": {},
   "outputs": [
    {
     "name": "stdout",
     "output_type": "stream",
     "text": [
      "101    80121\n",
      "102    48483\n",
      "103    37077\n",
      "104    30660\n",
      "105    68536\n",
      "106    52666\n",
      "107    78703\n",
      "108    51036\n",
      "109    55643\n",
      "110    56990\n",
      "111    39967\n",
      "112    93822\n",
      "113    51406\n",
      "114    93947\n",
      "115    78373\n",
      "116    62765\n",
      "117    47536\n",
      "118    40528\n",
      "119    58780\n",
      "120    83197\n",
      "dtype: int64\n"
     ]
    }
   ],
   "source": [
    "cars=pd.Series(price,index=np.arange(101,121))\n",
    "print(cars)"
   ]
  },
  {
   "cell_type": "markdown",
   "id": "41fd1673",
   "metadata": {},
   "source": [
    "### Task2:"
   ]
  },
  {
   "cell_type": "code",
   "execution_count": 7,
   "id": "b4453544",
   "metadata": {},
   "outputs": [
    {
     "name": "stdout",
     "output_type": "stream",
     "text": [
      "Index and price of highest priced car is below: \n",
      "114\n",
      "93947\n"
     ]
    }
   ],
   "source": [
    "print(\"Index and price of highest priced car is below: \")\n",
    "print(cars.idxmax())\n",
    "print(cars.max())"
   ]
  },
  {
   "cell_type": "code",
   "execution_count": 8,
   "id": "51478bf0",
   "metadata": {},
   "outputs": [
    {
     "name": "stdout",
     "output_type": "stream",
     "text": [
      "Index and price of lowest priced car is below: \n",
      "104\n",
      "30660\n"
     ]
    }
   ],
   "source": [
    "print(\"Index and price of lowest priced car is below: \")\n",
    "print(cars.idxmin())\n",
    "print(cars.min())"
   ]
  },
  {
   "cell_type": "markdown",
   "id": "45037970",
   "metadata": {},
   "source": [
    "### Task3:"
   ]
  },
  {
   "cell_type": "code",
   "execution_count": 9,
   "id": "12b07053",
   "metadata": {},
   "outputs": [
    {
     "name": "stdout",
     "output_type": "stream",
     "text": [
      "107    78703\n",
      "101    80121\n",
      "120    83197\n",
      "112    93822\n",
      "114    93947\n",
      "dtype: int64\n"
     ]
    }
   ],
   "source": [
    "top5=cars.sort_values().tail()\n",
    "print(top5)"
   ]
  },
  {
   "cell_type": "markdown",
   "id": "cf54cc96",
   "metadata": {},
   "source": [
    "### Task4:"
   ]
  },
  {
   "cell_type": "code",
   "execution_count": 10,
   "id": "a26337a1",
   "metadata": {},
   "outputs": [
    {
     "name": "stdout",
     "output_type": "stream",
     "text": [
      "103    37077\n",
      "104    30660\n",
      "111    39967\n",
      "dtype: int64\n",
      "\n",
      "The Count of these car is:  3\n"
     ]
    }
   ],
   "source": [
    "a=cars[(cars>=30000)&(cars<=40000)]\n",
    "print(a)\n",
    "print()\n",
    "print(\"The Count of these car is: \",a.size)"
   ]
  },
  {
   "cell_type": "markdown",
   "id": "759e2569",
   "metadata": {},
   "source": [
    "### Task5:"
   ]
  },
  {
   "cell_type": "code",
   "execution_count": 11,
   "id": "74a5ddc4",
   "metadata": {},
   "outputs": [
    {
     "name": "stdout",
     "output_type": "stream",
     "text": [
      "101    80121\n",
      "105    68536\n",
      "107    78703\n",
      "112    93822\n",
      "114    93947\n",
      "115    78373\n",
      "116    62765\n",
      "120    83197\n",
      "dtype: int64\n",
      "\n",
      "The count of cars priced above average price is:  8\n"
     ]
    }
   ],
   "source": [
    "avg=cars.mean()\n",
    "a=cars[(cars>avg)]\n",
    "print(a)\n",
    "print()\n",
    "print(\"The count of cars priced above average price is: \",a.size)"
   ]
  },
  {
   "cell_type": "markdown",
   "id": "a698207e",
   "metadata": {},
   "source": [
    "### Task6:"
   ]
  },
  {
   "cell_type": "code",
   "execution_count": 12,
   "id": "04fb3e18",
   "metadata": {},
   "outputs": [
    {
     "name": "stdout",
     "output_type": "stream",
     "text": [
      "101    80121\n",
      "102    48483\n",
      "103    37077\n",
      "104    30660\n",
      "105    68536\n",
      "106    52666\n",
      "107    78703\n",
      "108    51036\n",
      "109    55643\n",
      "110    56990\n",
      "111    39967\n",
      "112    93822\n",
      "113    51406\n",
      "114    93947\n",
      "115    78373\n",
      "116    62765\n",
      "117    47536\n",
      "118    40528\n",
      "119    58780\n",
      "120    83197\n",
      "201    34000\n",
      "202    45000\n",
      "203    54000\n",
      "dtype: int64\n"
     ]
    }
   ],
   "source": [
    "indexes=[201,202,203]\n",
    "prices=[34000,45000,54000]\n",
    "cars2=pd.Series(prices,indexes)\n",
    "new_cars=pd.concat([cars,cars2])\n",
    "print(new_cars)"
   ]
  },
  {
   "cell_type": "markdown",
   "id": "285aefe1",
   "metadata": {},
   "source": [
    "### Task7:"
   ]
  },
  {
   "cell_type": "code",
   "execution_count": 13,
   "id": "00a38acc",
   "metadata": {},
   "outputs": [],
   "source": [
    "a=new_cars[new_cars>=60000]\n",
    "discount=a*0.80"
   ]
  },
  {
   "cell_type": "code",
   "execution_count": 14,
   "id": "c0b1dc9d",
   "metadata": {},
   "outputs": [
    {
     "data": {
      "text/html": [
       "<div>\n",
       "<style scoped>\n",
       "    .dataframe tbody tr th:only-of-type {\n",
       "        vertical-align: middle;\n",
       "    }\n",
       "\n",
       "    .dataframe tbody tr th {\n",
       "        vertical-align: top;\n",
       "    }\n",
       "\n",
       "    .dataframe thead th {\n",
       "        text-align: right;\n",
       "    }\n",
       "</style>\n",
       "<table border=\"1\" class=\"dataframe\">\n",
       "  <thead>\n",
       "    <tr style=\"text-align: right;\">\n",
       "      <th></th>\n",
       "      <th>Price before discount</th>\n",
       "      <th>price after discount</th>\n",
       "    </tr>\n",
       "  </thead>\n",
       "  <tbody>\n",
       "    <tr>\n",
       "      <th>101</th>\n",
       "      <td>80121</td>\n",
       "      <td>64096.8</td>\n",
       "    </tr>\n",
       "    <tr>\n",
       "      <th>105</th>\n",
       "      <td>68536</td>\n",
       "      <td>54828.8</td>\n",
       "    </tr>\n",
       "    <tr>\n",
       "      <th>107</th>\n",
       "      <td>78703</td>\n",
       "      <td>62962.4</td>\n",
       "    </tr>\n",
       "    <tr>\n",
       "      <th>112</th>\n",
       "      <td>93822</td>\n",
       "      <td>75057.6</td>\n",
       "    </tr>\n",
       "    <tr>\n",
       "      <th>114</th>\n",
       "      <td>93947</td>\n",
       "      <td>75157.6</td>\n",
       "    </tr>\n",
       "    <tr>\n",
       "      <th>115</th>\n",
       "      <td>78373</td>\n",
       "      <td>62698.4</td>\n",
       "    </tr>\n",
       "    <tr>\n",
       "      <th>116</th>\n",
       "      <td>62765</td>\n",
       "      <td>50212.0</td>\n",
       "    </tr>\n",
       "    <tr>\n",
       "      <th>120</th>\n",
       "      <td>83197</td>\n",
       "      <td>66557.6</td>\n",
       "    </tr>\n",
       "  </tbody>\n",
       "</table>\n",
       "</div>"
      ],
      "text/plain": [
       "     Price before discount  price after discount\n",
       "101                  80121               64096.8\n",
       "105                  68536               54828.8\n",
       "107                  78703               62962.4\n",
       "112                  93822               75057.6\n",
       "114                  93947               75157.6\n",
       "115                  78373               62698.4\n",
       "116                  62765               50212.0\n",
       "120                  83197               66557.6"
      ]
     },
     "execution_count": 14,
     "metadata": {},
     "output_type": "execute_result"
    }
   ],
   "source": [
    "b=pd.DataFrame({'Price before discount' : a,'price after discount':discount})\n",
    "b"
   ]
  },
  {
   "cell_type": "markdown",
   "id": "c6f6dff0",
   "metadata": {},
   "source": [
    "### Task8:"
   ]
  },
  {
   "cell_type": "code",
   "execution_count": 25,
   "id": "32768641",
   "metadata": {},
   "outputs": [
    {
     "name": "stdout",
     "output_type": "stream",
     "text": [
      "102    48483\n",
      "103    37077\n",
      "104    30660\n",
      "106    52666\n",
      "108    51036\n",
      "109    55643\n",
      "110    56990\n",
      "111    39967\n",
      "113    51406\n",
      "117    47536\n",
      "118    40528\n",
      "119    58780\n",
      "201    34000\n",
      "202    45000\n",
      "203    54000\n",
      "dtype: int64\n"
     ]
    }
   ],
   "source": [
    "new=new_cars.drop(new_cars[new_cars.isin(a)].index)\n",
    "print(new)"
   ]
  },
  {
   "cell_type": "code",
   "execution_count": 26,
   "id": "704e947b",
   "metadata": {},
   "outputs": [
    {
     "name": "stdout",
     "output_type": "stream",
     "text": [
      "The number of cars that were available at first place was:  23\n"
     ]
    }
   ],
   "source": [
    "print(\"The number of cars that were available at first place was: \",new_cars.size)"
   ]
  },
  {
   "cell_type": "code",
   "execution_count": 27,
   "id": "03044a9c",
   "metadata": {},
   "outputs": [
    {
     "name": "stdout",
     "output_type": "stream",
     "text": [
      "The number of cars after sale is:  15\n"
     ]
    }
   ],
   "source": [
    "print(\"The number of cars after sale is: \",new.size)"
   ]
  }
 ],
 "metadata": {
  "kernelspec": {
   "display_name": "Python 3 (ipykernel)",
   "language": "python",
   "name": "python3"
  },
  "language_info": {
   "codemirror_mode": {
    "name": "ipython",
    "version": 3
   },
   "file_extension": ".py",
   "mimetype": "text/x-python",
   "name": "python",
   "nbconvert_exporter": "python",
   "pygments_lexer": "ipython3",
   "version": "3.9.13"
  }
 },
 "nbformat": 4,
 "nbformat_minor": 5
}
